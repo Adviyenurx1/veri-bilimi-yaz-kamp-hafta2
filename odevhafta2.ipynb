{
  "cells": [
    {
      "cell_type": "markdown",
      "metadata": {
        "id": "DZIyRzmW9Ikd"
      },
      "source": [
        "**Haftalık Ödev – Yaz Kampı: Veri Bilimi – Hafta 2 **\n",
        "\n",
        "---\n",
        "\n",
        "\n",
        "\n",
        "\n",
        "\n",
        "\n",
        "SORULAR\n",
        "\n",
        "Soru 1\n",
        "– Sayı Analizi\n",
        "Kullanıcıdan bir sayı isteyin.\n",
        "\n",
        "• Sayı pozitif, negatif ya da sıfır mı kontrol edin.\n",
        "\n",
        "• Aynı zamanda tek/çift olup olmadığını da belirtin.\n",
        "\n",
        "• Çıktı örneği: \"Pozitif Çift\" veya \"Negatif Tek\" gibi."
      ]
    },
    {
      "cell_type": "code",
      "execution_count": null,
      "metadata": {
        "colab": {
          "base_uri": "https://localhost:8080/"
        },
        "id": "CSxciRyd9ULo",
        "outputId": "bb32f565-e2fe-4336-cab0-2276f6e7248a"
      },
      "outputs": [
        {
          "name": "stdout",
          "output_type": "stream",
          "text": [
            "Bir sayı giriniz: 4\n",
            "Pozitif Çift\n"
          ]
        }
      ],
      "source": [
        "sayi = int(input(\"Bir sayı giriniz: \"))\n",
        "\n",
        "if sayi > 0:\n",
        "   sayikontrolu = \"Pozitif\"\n",
        "elif sayi < 0:\n",
        "    sayikontrolu = \"Negatif\"\n",
        "else:\n",
        "    sayikontrolu = \"Sıfır\"\n",
        "if sayi % 2 == 0:\n",
        "    sayikontrolu2 = \"Çift\"\n",
        "else:\n",
        "    sayikontrolu2 = \"Tek\"\n",
        "print(f\"{sayikontrolu} {sayikontrolu2}\")"
      ]
    },
    {
      "cell_type": "markdown",
      "metadata": {
        "id": "t9vprF41_xaZ"
      },
      "source": [
        "Soru 2 – Harf Frekansı (String)\n",
        "\n",
        "Kullanıcıdan bir kelime alın.\n",
        "\n",
        "• Hangi harften kaç tane geçtiğini bulun.\n",
        "\n",
        "• Sonucu dictionary olarak gösterin.\n",
        "Örnek: \"data\" → {'d': 1, 'a': 2, 't': 1}"
      ]
    },
    {
      "cell_type": "code",
      "execution_count": null,
      "metadata": {
        "colab": {
          "base_uri": "https://localhost:8080/"
        },
        "id": "HFPDfjZ2_8NA",
        "outputId": "36e65427-c857-4109-8515-1efe50ec0776"
      },
      "outputs": [
        {
          "name": "stdout",
          "output_type": "stream",
          "text": [
            "Bir kelime girin:şevval\n",
            "{'ş': 1, 'e': 1, 'v': 2, 'a': 1, 'l': 1}\n"
          ]
        }
      ],
      "source": [
        "kelime = input(\"Bir kelime girin:\")\n",
        "dictionary = {}\n",
        "for harf in kelime:\n",
        "    if harf in dictionary:\n",
        "        dictionary[harf] += 1\n",
        "    else:\n",
        "        dictionary[harf] = 1\n",
        "print(dictionary)"
      ]
    },
    {
      "cell_type": "markdown",
      "metadata": {
        "id": "0mdtjAg5FTML"
      },
      "source": [
        "Soru 3 – Şifre Kontrolü (String Metotları)\n",
        "\n",
        "Kullanıcıdan şifre girmesini isteyin.\n",
        "\n",
        "Şifre:\n",
        "\n",
        "• En az 8 karakter olmalı\n",
        "• En az 1 büyük harf içermeli\n",
        "• En az 1 rakam içermeli\n",
        "Koşulları sağlayıp sağlamadığına göre kullanıcıyı bilgilendirin.\n"
      ]
    },
    {
      "cell_type": "code",
      "execution_count": null,
      "metadata": {
        "id": "aDRhnfmaF4kI"
      },
      "outputs": [],
      "source": [
        "sifre = input(\"Şifrenizi giriniz: \")\n",
        "\n",
        "hatalar = []\n",
        "\n",
        "if len(sifre) < 8:\n",
        "    hatalar.append(\"Şifreniz en az 8 karakter olmalıdır.\")\n",
        "\n",
        "if not any(harf.isupper() for harf in sifre):\n",
        "    hatalar.append(\"Şifre en az bir büyük harf içermeli!\")\n",
        "\n",
        "if not any(harf.isdigit() for harf in sifre):\n",
        "    hatalar.append(\"Şifre en az bir rakam içermeli!\")\n",
        "\n",
        "if hatalar:\n",
        "    print(\" Şifre geçersiz!\")\n",
        "    for hata in hatalar:\n",
        "        print(\"-\", hata)\n",
        "else:\n",
        "    print(\"Şifreniz kabul edildi.\")\n",
        "\n",
        "\n"
      ]
    },
    {
      "cell_type": "markdown",
      "metadata": {
        "id": "3TUmI2-lRPtV"
      },
      "source": [
        "Soru 4 – Liste İşlemleri\n",
        "\n",
        "[12, 4, 9, 25, 30, 7, 18] listesini kullanın.\n",
        "\n",
        "• Listenin ortalamasını bulun.\n",
        "\n",
        "• Ortalamadan büyük sayıları ayrı bir listeye atın.\n",
        "\n",
        "• Sonucu ekrana yazdırın."
      ]
    },
    {
      "cell_type": "code",
      "execution_count": null,
      "metadata": {
        "id": "Pxzr1eyLRYJW"
      },
      "outputs": [],
      "source": [
        "liste = [12, 4, 9, 25, 30, 7, 18]\n",
        "ortalama = sum(liste)/ len(liste)\n",
        "buyuk_sayilar = []\n",
        "for i in liste:\n",
        "    if i > ortalama:\n",
        "        buyuk_sayilar.append(i)\n",
        "print(\"Listenin ortalaması:\", ortalama)\n",
        "print(\"Ortalamadan büyük sayılar:\", buyuk_sayilar)\n",
        "\n",
        "\n",
        "\n"
      ]
    },
    {
      "cell_type": "markdown",
      "metadata": {
        "id": "C9O9JEJZXCob"
      },
      "source": [
        "Soru 5 – Nested Loop (Desen)\n",
        "\n",
        "Aşağıdaki çıktıyı üreten programı yazın (üçgen desen):\n",
        "\n",
        "       *\n",
        "       **\n",
        "       ***\n",
        "       ****\n",
        "       *****\n",
        "\n",
        "\n"
      ]
    },
    {
      "cell_type": "code",
      "execution_count": null,
      "metadata": {
        "colab": {
          "base_uri": "https://localhost:8080/"
        },
        "id": "pkd4cc6RXqqw",
        "outputId": "02092301-6ac2-4cd5-d5de-5ea3c8f67333"
      },
      "outputs": [
        {
          "name": "stdout",
          "output_type": "stream",
          "text": [
            "*\n",
            "**\n",
            "***\n",
            "****\n",
            "*****\n"
          ]
        }
      ],
      "source": [
        "for i in range(1, 6):\n",
        "    print('*' * i)\n"
      ]
    },
    {
      "cell_type": "markdown",
      "metadata": {
        "id": "r5Xsibp7zAp4"
      },
      "source": [
        "Soru 6 – While Döngüsü\n",
        "\n",
        "Kullanıcıdan sürekli sayı isteyin.\n",
        "• Kullanıcı 0 girdiğinde program dursun.\n",
        "• Girilen tüm sayıların toplamını ve ortalamasını yazdırın."
      ]
    },
    {
      "cell_type": "code",
      "execution_count": null,
      "metadata": {
        "id": "3RSTu2zrzGF9"
      },
      "outputs": [],
      "source": [
        "toplam = 0\n",
        "sayac = 0\n",
        "while True:\n",
        "    sayi = int(input(\"bir sayı giriniz:\"))\n",
        "    if sayi == 0:\n",
        "       break\n",
        "    toplam += sayi\n",
        "    sayac += 1\n",
        "    ortalama = toplam / sayac\n",
        "    print(\"Toplam:\", toplam)\n",
        "    print(\"Ortalama:\", ortalama)\n"
      ]
    },
    {
      "cell_type": "markdown",
      "metadata": {
        "id": "084c1yKO3Vyo"
      },
      "source": [
        "Soru 7 – Palindrom Kontrolü\n",
        "\n",
        "Kullanıcıdan bir kelime isteyin.\n",
        "• Kelimenin palindrom olup olmadığını kontrol edin.\n",
        "• Örnek: \"kayak\" → Palindrom     , \"python\" → Değil    "
      ]
    },
    {
      "cell_type": "code",
      "execution_count": null,
      "metadata": {
        "id": "RUqGEWRu3bXe"
      },
      "outputs": [],
      "source": [
        "kelime = input(\"kelime giriniz:\")\n",
        "ters_kelime = kelime[::-1]\n",
        "if kelime == ters_kelime:\n",
        "  print(f\" {kelime} palindrom bir kelimedir.\")\n",
        "else:\n",
        "  print(f\" {kelime} palindrom değil\")"
      ]
    },
    {
      "cell_type": "markdown",
      "metadata": {
        "id": "zRGlAG9Fkeqo"
      },
      "source": [
        "Soru 8 – List Comprehension\n",
        "\n",
        "1’den 100’e kadar olan sayılardan:\n",
        "• Hem 3’e hem 5’e bölünebilenlerin karelerini içeren bir liste oluşturun.\n",
        "• Sonucu ekrana yazdırın."
      ]
    },
    {
      "cell_type": "code",
      "execution_count": 5,
      "metadata": {
        "colab": {
          "base_uri": "https://localhost:8080/"
        },
        "id": "yalSGVtEkjH6",
        "outputId": "fe4650ec-e25e-4d9c-cb5e-bb99b5a28e84"
      },
      "outputs": [
        {
          "name": "stdout",
          "output_type": "stream",
          "text": [
            "[225, 900, 2025, 3600, 5625, 8100]\n"
          ]
        }
      ],
      "source": [
        "liste = []\n",
        "for i in range(1,101):\n",
        "  if i % 3 == 0 and i%5 == 0:\n",
        "    liste.append(i**2)\n",
        "print(liste)\n"
      ]
    },
    {
      "cell_type": "markdown",
      "metadata": {
        "id": "YZEUqFIMIlEH"
      },
      "source": [
        "Soru 9 – String İşlemleri\n",
        "\n",
        "Bir cümle alın.\n",
        "• Cümledeki kelimeleri split() ile ayırın.\n",
        "• Her kelimenin ilk harfini büyük yaparak yeni bir string oluşturun.\n",
        "• Örnek: \"python veri bilimi\" → \"Python Veri Bilimi\""
      ]
    },
    {
      "cell_type": "code",
      "execution_count": 7,
      "metadata": {
        "colab": {
          "base_uri": "https://localhost:8080/"
        },
        "id": "t71XaEEcIqmI",
        "outputId": "1a3c1ba1-054a-403c-fa6d-b653f14361a2"
      },
      "outputs": [
        {
          "name": "stdout",
          "output_type": "stream",
          "text": [
            "Bir cümle giriniz:python veri bilimi\n",
            "Python Veri Bilimi\n"
          ]
        }
      ],
      "source": [
        "cumle = input(\"Bir cümle giriniz:\")\n",
        "kelimeler = cumle.split()\n",
        "yeni_cumle = \" \".join([kelime.capitalize() for kelime in kelimeler ])\n",
        "print(yeni_cumle)"
      ]
    },
    {
      "cell_type": "markdown",
      "metadata": {
        "id": "4WFOnGQOK7Kn"
      },
      "source": [
        "Mini Proje – Film Yorumu Analizi\n",
        "\n",
        "Proje Tanımı:\n",
        "\n",
        "Kullanıcıdan birkaç film yorumu alın (örneğin 5–6 yorum). - Yorumları bir listeye atın. - Her yorumun uzunluğunu (karakter sayısı) bulun. - Kaç yorumda \"iyi\" kelimesi geçtiğini sayın. - En uzun yorumu ve en kısa yorumu ekrana yazdırın. - Tüm yorumların ortalama uzunluğunu hesaplayın\n",
        "\n",
        ":Beklenen Çıktı Örneği\n",
        "\n",
        "Girdi (yorumlar):\n",
        "[\"Film çok güzeldi\", \"Kötüydü\", \"Ortalama bir filmdi\", \"Gerçekten çok iyi!\", \"İyi ama daha iyi\n",
        "olabilirdi\"]\n",
        "\n",
        "Çıktı:\n",
        "Toplam yorum sayısı: 5\n",
        "\n",
        "\"iyi\" geçen yorum sayısı: 2\n",
        "\n",
        "En uzun yorum: İyi ama daha iyi olabilirdi\n",
        "\n",
        "En kısa yorum: Kötüydü\n",
        "Ortalama uzunluk: 17.4 karakter"
      ]
    },
    {
      "cell_type": "code",
      "execution_count": 8,
      "metadata": {
        "colab": {
          "base_uri": "https://localhost:8080/"
        },
        "id": "3_37GO6-LXFu",
        "outputId": "c01fbd19-5636-4fac-8e91-c80bce70eb68"
      },
      "outputs": [
        {
          "name": "stdout",
          "output_type": "stream",
          "text": [
            "Toplam yorum sayısı: 5\n",
            "\"iyi\" geçen yorum sayısı: 2\n",
            "En uzun yorum: İyi ama daha iyi olabilirdi\n",
            "En kısa yorum: Kötüydü\n",
            "Ortalama uzunluk: 17.4 karakter\n"
          ]
        }
      ],
      "source": [
        "yorumlar = [\n",
        "    \"Film çok güzeldi\",\n",
        "    \"Kötüydü\",\n",
        "    \"Ortalama bir filmdi\",\n",
        "    \"Gerçekten çok iyi!\",\n",
        "    \"İyi ama daha iyi olabilirdi\"\n",
        "]\n",
        "\n",
        "print(\"Toplam yorum sayısı:\", len(yorumlar))\n",
        "\n",
        "iyi_sayisi = sum(\"iyi\" in yorum.lower() for yorum in yorumlar)\n",
        "print('\"iyi\" geçen yorum sayısı:', iyi_sayisi)\n",
        "\n",
        "en_uzun = max(yorumlar, key=len)\n",
        "en_kisa = min(yorumlar, key=len)\n",
        "print(\"En uzun yorum:\", en_uzun)\n",
        "print(\"En kısa yorum:\", en_kisa)\n",
        "\n",
        "ortalama = sum(len(yorum) for yorum in yorumlar) / len(yorumlar)\n",
        "print(\"Ortalama uzunluk:\", round(ortalama, 1), \"karakter\")\n",
        "\n",
        "\n"
      ]
    }
  ],
  "metadata": {
    "colab": {
      "provenance": []
    },
    "kernelspec": {
      "display_name": "Python 3",
      "name": "python3"
    },
    "language_info": {
      "name": "python"
    }
  },
  "nbformat": 4,
  "nbformat_minor": 0
}
